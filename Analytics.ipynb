# -*- coding: utf-8 -*-
"""
Created on Sat Nov 30 19:14:54 2019

@author: Bianca
"""
import pyodbc;
import matplotlib
import numpy as np
import matplotlib.pyplot as plt
 
 
##Establishing connection
conn = pyodbc.connect('Driver={SQL Server};'
                      'Server=localhost\SQLEXPRESS;'
                      'Database=Messer;'
                      'Trusted_Connection=yes;')
cursor = conn.cursor()

Cidade = ['São Paulo', 'São Carlos', 'Uberaba', 'Salvador', 'Rio da Janeiro', 'Goiânia']
Venda = []

#Sales per City
cursor.execute("SELECT Count (*) FROM SALE AS S INNER JOIN CUSTOMER AS C ON S.CustomerID = C.CustomerID INNER JOIN City AS Ci ON C.CityID = Ci.CityID WHERE Ci.Name = 'São Paulo'") 
for row in cursor.fetchall():
    Venda.append(row[0]) 
cursor.execute("SELECT Count (*) FROM SALE AS S INNER JOIN CUSTOMER AS C ON S.CustomerID = C.CustomerID INNER JOIN City AS Ci ON C.CityID = Ci.CityID WHERE Ci.Name = 'São Carlos'") 
for row in cursor.fetchall():
    Venda.append(row[0]) 
cursor.execute("SELECT Count (*) FROM SALE AS S INNER JOIN CUSTOMER AS C ON S.CustomerID = C.CustomerID INNER JOIN City AS Ci ON C.CityID = Ci.CityID WHERE Ci.Name = 'Uberaba'") 
for row in cursor.fetchall():
    Venda.append(row[0]) 
cursor.execute("SELECT Count (*) FROM SALE AS S INNER JOIN CUSTOMER AS C ON S.CustomerID = C.CustomerID INNER JOIN City AS Ci ON C.CityID = Ci.CityID WHERE Ci.Name = 'Salvador'") 
for row in cursor.fetchall():
    Venda.append(row[0]) 
cursor.execute("SELECT Count (*) FROM SALE AS S INNER JOIN CUSTOMER AS C ON S.CustomerID = C.CustomerID INNER JOIN City AS Ci ON C.CityID = Ci.CityID WHERE Ci.Name = 'Rio de Janeiro'") 
for row in cursor.fetchall():
    Venda.append(row[0]) 
cursor.execute("SELECT Count (*) FROM SALE AS S INNER JOIN CUSTOMER AS C ON S.CustomerID = C.CustomerID INNER JOIN City AS Ci ON C.CityID = Ci.CityID WHERE Ci.Name = 'Goiânia'") 
for row in cursor.fetchall():
    Venda.append(row[0])


plt.figure(figsize=(8,8))
plt.bar(Cidade,Venda, color="red")
plt.xticks(Cidade, rotation = 90)
plt.ylabel('Vendas')
plt.title ('Quantidade de vendas por cidade')
plt.savefig('SaleperCity.png')
plt.show()


#Money raised per product
Produto = []
Valor = []
soma = 0


cursor.execute("SELECT DISTINCT P.Name FROM SALE AS S INNER JOIN Product AS P ON S.ProductID = P.ProductID ORDER BY P.Name")
for row in cursor.fetchall():
    Produto.append(row[0])
for prod in Produto:
    cursor.execute("SELECT SUM(S.Price) FROM SALE AS S INNER JOIN Product AS P ON S.ProductID = P.ProductID WHERE P.Name='%s'"%(prod))
    for row in cursor.fetchall():    
        Valor.append(row[0])    


plt.figure(figsize=(10,8))
plt.bar(Produto,Valor,color="blue")
plt.xticks(Produto, rotation = 90)
plt.ylabel('Valor arrecadado')
plt.title ('Valor arrecadado por produto')


plt.savefig('ProfitperProduct.png')
plt.show()





















